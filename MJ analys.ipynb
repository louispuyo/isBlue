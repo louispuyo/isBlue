{
 "cells": [
  {
   "cell_type": "markdown",
   "metadata": {
    "scrolled": false
   },
   "source": [
    "## Strains MJ analyse\n"
   ]
  },
  {
   "cell_type": "code",
   "execution_count": null,
   "metadata": {},
   "outputs": [],
   "source": [
    "import seaborn as sns\n",
    "import pandas as pd\n",
    "import numpy as np\n",
    "import matplotlib.pyplot as plt\n",
    "%matplotlib inline\n",
    "ca = pd.read_csv('/home/snowden/airflow3/medecine/Cannabis_Strains_Features.csv')\n",
    "df = pd.DataFrame(ca)\n",
    "df\n",
    "Effect = df['Effects']\n",
    "Effect = Effect.str.replace('\\n', '').str.replace(' ', '').str.replace('Energentic', 'Energetic').str.replace('Dry','Drymouth').str.replace('Mouth', 'Drymouth')\n",
    "Effect = Effect.str.split(',', expand=True)\n",
    "eff_1 = Effect[0].unique()\n",
    "eff_2 = Effect[1].unique()\n",
    "eff_3 = Effect[2].unique()\n",
    "eff_4 = Effect[3].unique()\n",
    "\n",
    "\n",
    "\n",
    "container_effect = []\n",
    "for i in range(3):\n",
    "    for k in Effect[i].unique():\n",
    "        if k not in container_effect:\n",
    "            container_effect.append(k)\n",
    "        else:\n",
    "            pass\n",
    "        \n",
    "df\n",
    "# bamboolib live code export\n",
    "df['Rating'] = df['Rating'].replace(np.nan, 2.5)\n",
    "df = df.sort_values(by=['Rating'], ascending=[None])\n",
    "df['Rating'] = df['Rating'].replace(0, 2.5)\n",
    "df"
   ]
  },
  {
   "cell_type": "code",
   "execution_count": null,
   "metadata": {},
   "outputs": [],
   "source": [
    "\n",
    "Type = df['Type'].replace(['hybrid', 'sativa', 'indica'], [2,1,0])\n",
    "Effect.replace('None', 'null')\n",
    "container_effect = pd.Series(container_effect).replace(['Creative',\n",
    " 'Relaxed',\n",
    " 'Uplifted',\n",
    " 'Tingly',\n",
    " 'Happy',\n",
    " 'Energetic',\n",
    " 'Euphoric',\n",
    " 'Hungry',\n",
    " 'Talkative',\n",
    " 'Focused',\n",
    " 'Sleepy',\n",
    " 'null',\n",
    " 'Aroused',\n",
    " 'Giggly',\n",
    " 'Drymouth'], [0,1,2,3,4,5,6,7,8,9,10,11,12,13,14])"
   ]
  },
  {
   "cell_type": "code",
   "execution_count": 667,
   "metadata": {
    "scrolled": true
   },
   "outputs": [
    {
     "data": {
      "application/vnd.jupyter.widget-view+json": {
       "model_id": "be87fbb91b4c4bfc99b79c0ac7b8c27c"
      },
      "text/html": [
       "<div>\n",
       "<style scoped>\n",
       "    .dataframe tbody tr th:only-of-type {\n",
       "        vertical-align: middle;\n",
       "    }\n",
       "\n",
       "    .dataframe tbody tr th {\n",
       "        vertical-align: top;\n",
       "    }\n",
       "\n",
       "    .dataframe thead th {\n",
       "        text-align: right;\n",
       "    }\n",
       "</style>\n",
       "<table border=\"1\" class=\"dataframe\">\n",
       "  <thead>\n",
       "    <tr style=\"text-align: right;\">\n",
       "      <th></th>\n",
       "      <th>0</th>\n",
       "      <th>1</th>\n",
       "      <th>2</th>\n",
       "      <th>3</th>\n",
       "      <th>4</th>\n",
       "      <th>Total</th>\n",
       "      <th>Target</th>\n",
       "    </tr>\n",
       "  </thead>\n",
       "  <tbody>\n",
       "    <tr>\n",
       "      <td>0</td>\n",
       "      <td>0.0</td>\n",
       "      <td>5.0</td>\n",
       "      <td>3.0</td>\n",
       "      <td>6.0</td>\n",
       "      <td>1.0</td>\n",
       "      <td>15.0</td>\n",
       "      <td>4.0</td>\n",
       "    </tr>\n",
       "    <tr>\n",
       "      <td>1</td>\n",
       "      <td>1.0</td>\n",
       "      <td>12.0</td>\n",
       "      <td>0.0</td>\n",
       "      <td>4.0</td>\n",
       "      <td>5.0</td>\n",
       "      <td>22.0</td>\n",
       "      <td>4.7</td>\n",
       "    </tr>\n",
       "    <tr>\n",
       "      <td>2</td>\n",
       "      <td>2.0</td>\n",
       "      <td>4.0</td>\n",
       "      <td>1.0</td>\n",
       "      <td>5.0</td>\n",
       "      <td>0.0</td>\n",
       "      <td>12.0</td>\n",
       "      <td>4.4</td>\n",
       "    </tr>\n",
       "    <tr>\n",
       "      <td>3</td>\n",
       "      <td>3.0</td>\n",
       "      <td>0.0</td>\n",
       "      <td>7.0</td>\n",
       "      <td>1.0</td>\n",
       "      <td>2.0</td>\n",
       "      <td>13.0</td>\n",
       "      <td>4.2</td>\n",
       "    </tr>\n",
       "    <tr>\n",
       "      <td>4</td>\n",
       "      <td>4.0</td>\n",
       "      <td>1.0</td>\n",
       "      <td>6.0</td>\n",
       "      <td>2.0</td>\n",
       "      <td>8.0</td>\n",
       "      <td>21.0</td>\n",
       "      <td>4.6</td>\n",
       "    </tr>\n",
       "    <tr>\n",
       "      <td>...</td>\n",
       "      <td>...</td>\n",
       "      <td>...</td>\n",
       "      <td>...</td>\n",
       "      <td>...</td>\n",
       "      <td>...</td>\n",
       "      <td>...</td>\n",
       "      <td>...</td>\n",
       "    </tr>\n",
       "    <tr>\n",
       "      <td>2346</td>\n",
       "      <td>4.0</td>\n",
       "      <td>2.0</td>\n",
       "      <td>1.0</td>\n",
       "      <td>6.0</td>\n",
       "      <td>5.0</td>\n",
       "      <td>18.0</td>\n",
       "      <td>4.7</td>\n",
       "    </tr>\n",
       "    <tr>\n",
       "      <td>2347</td>\n",
       "      <td>1.0</td>\n",
       "      <td>4.0</td>\n",
       "      <td>6.0</td>\n",
       "      <td>2.0</td>\n",
       "      <td>10.0</td>\n",
       "      <td>23.0</td>\n",
       "      <td>4.6</td>\n",
       "    </tr>\n",
       "    <tr>\n",
       "      <td>2348</td>\n",
       "      <td>1.0</td>\n",
       "      <td>10.0</td>\n",
       "      <td>8.0</td>\n",
       "      <td>6.0</td>\n",
       "      <td>4.0</td>\n",
       "      <td>29.0</td>\n",
       "      <td>5.0</td>\n",
       "    </tr>\n",
       "    <tr>\n",
       "      <td>2349</td>\n",
       "      <td>1.0</td>\n",
       "      <td>10.0</td>\n",
       "      <td>6.0</td>\n",
       "      <td>4.0</td>\n",
       "      <td>7.0</td>\n",
       "      <td>28.0</td>\n",
       "      <td>4.4</td>\n",
       "    </tr>\n",
       "    <tr>\n",
       "      <td>2350</td>\n",
       "      <td>7.0</td>\n",
       "      <td>1.0</td>\n",
       "      <td>2.0</td>\n",
       "      <td>4.0</td>\n",
       "      <td>10.0</td>\n",
       "      <td>24.0</td>\n",
       "      <td>4.6</td>\n",
       "    </tr>\n",
       "  </tbody>\n",
       "</table>\n",
       "<p>2351 rows × 7 columns</p>\n",
       "</div>"
      ],
      "text/plain": [
       "        0     1    2    3     4  Total  Target\n",
       "0     0.0   5.0  3.0  6.0   1.0   15.0     4.0\n",
       "1     1.0  12.0  0.0  4.0   5.0   22.0     4.7\n",
       "2     2.0   4.0  1.0  5.0   0.0   12.0     4.4\n",
       "3     3.0   0.0  7.0  1.0   2.0   13.0     4.2\n",
       "4     4.0   1.0  6.0  2.0   8.0   21.0     4.6\n",
       "...   ...   ...  ...  ...   ...    ...     ...\n",
       "2346  4.0   2.0  1.0  6.0   5.0   18.0     4.7\n",
       "2347  1.0   4.0  6.0  2.0  10.0   23.0     4.6\n",
       "2348  1.0  10.0  8.0  6.0   4.0   29.0     5.0\n",
       "2349  1.0  10.0  6.0  4.0   7.0   28.0     4.4\n",
       "2350  7.0   1.0  2.0  4.0  10.0   24.0     4.6\n",
       "\n",
       "[2351 rows x 7 columns]"
      ]
     },
     "metadata": {},
     "output_type": "display_data"
    }
   ],
   "source": [
    "DATA = pd.DataFrame(Effect).replace(['Creative',\n",
    " 'Relaxed',\n",
    " 'Uplifted',\n",
    " 'Tingly',\n",
    " 'Happy',\n",
    " 'Energetic',\n",
    " 'Euphoric',\n",
    " 'Hungry',\n",
    " 'Talkative',\n",
    " 'Focused',\n",
    " 'Sleepy',\n",
    " 'null',\n",
    " 'Aroused',\n",
    " 'Giggly',\n",
    " 'Drymouth'], [1,2,3,4,5,6,7,8,9,10,11,0,13,14, 15])\n",
    "\n",
    "DATA\n",
    "# bamboolib live code export\n",
    "DATA.columns = [str(column) for column in DATA.columns if column != (None or 'None')]\n",
    "DATA\n",
    "# bamboolib live code export\n",
    "DATA = DATA.replace('None', 0)\n",
    "DATAc\n",
    "# bamboolib live code export\n",
    "DATAc.loc[DATAc['0'].isna(), '0'] = 0\n",
    "DATAc['0'] = DATAc['0'].astype(float)\n",
    "Data = DATAc\n",
    "Rate = df['Rating']\n",
    "Data\n",
    "# bamboolib live code export\n",
    "Data[\"Total\"] = Data['0']+Data['1']+Data['2']+Data['3']+Data['4']\n",
    "Data[\"Target\"] = Rate[:len(Data)]\n",
    "Data\n",
    "# bamboolib live code export\n",
    "Data['Target'] \n",
    "Data\n",
    "# bamboolib live code export\n",
    "\n",
    "# bamboolib live code export\n",
    "DATAc.loc[DATAc['0'].isna(), '0'] = 7.5\n",
    "DATAc.loc[DATAc['1'].isna(), '1'] = 7.5\n",
    "DATAc['2'] = DATAc['2'].replace(np.nan, 7.5)\n",
    "DATAc['3'] = DATAc['3'].replace(np.nan, 7.5)\n",
    "DATAc['4'] = DATAc['4'].replace(np.nan, 7.6)\n",
    "DATAc\n",
    "# bamboolib live code export\n",
    "DATAc['Total'] = DATAc['Total'].replace(np.nan, 35.1)\n",
    "DATAc['Target'] = DATAc['Target'].replace(np.nan, 2.5)\n",
    "DATAc"
   ]
  },
  {
   "cell_type": "code",
   "execution_count": 668,
   "metadata": {},
   "outputs": [
    {
     "data": {
      "text/plain": [
       "(2351, 1)"
      ]
     },
     "execution_count": 668,
     "metadata": {},
     "output_type": "execute_result"
    }
   ],
   "source": [
    "y = np.array(DATAc['Target']).reshape(-1,1)\n",
    "x = np.array(DATAc['Total']).reshape(-1,1)\n",
    "\n",
    "x.shape\n"
   ]
  },
  {
   "cell_type": "markdown",
   "metadata": {},
   "source": [
    "#### here we have clean the data that contains error and duplicated, perhapse we need unique value for our parameters"
   ]
  },
  {
   "cell_type": "code",
   "execution_count": 669,
   "metadata": {},
   "outputs": [],
   "source": [
    "import sklearn"
   ]
  },
  {
   "cell_type": "code",
   "execution_count": 672,
   "metadata": {},
   "outputs": [],
   "source": [
    "from sklearn.neighbors import KNeighborsClassifier\n",
    "from sklearn.preprocessing import LabelEncoder\n",
    "from sklearn.impute import SimpleImputer\n",
    "from sklearn.model_selection import train_test_split\n",
    "from sklearn.metrics import r2_score\n",
    "model = KNeighborsClassifier()\n",
    "x_train, x_test, y_train, y_test = train_test_split(x, y)\n",
    "lab_enc = LabelEncoder()\n",
    "training_scores_encoded = lab_enc.fit_transform(y_train)\n",
    "result_scores_encoded = lab_enc.transform(y_test)"
   ]
  },
  {
   "cell_type": "code",
   "execution_count": 673,
   "metadata": {},
   "outputs": [
    {
     "data": {
      "text/plain": [
       "KNeighborsClassifier(algorithm='auto', leaf_size=30, metric='minkowski',\n",
       "                     metric_params=None, n_jobs=None, n_neighbors=5, p=2,\n",
       "                     weights='uniform')"
      ]
     },
     "execution_count": 673,
     "metadata": {},
     "output_type": "execute_result"
    }
   ],
   "source": [
    "model.fit(x_train, training_scores_encoded)"
   ]
  },
  {
   "cell_type": "code",
   "execution_count": 674,
   "metadata": {},
   "outputs": [
    {
     "data": {
      "text/plain": [
       "0.11054421768707483"
      ]
     },
     "execution_count": 674,
     "metadata": {},
     "output_type": "execute_result"
    }
   ],
   "source": [
    "model.score(x_test, result_scores_encoded)"
   ]
  },
  {
   "cell_type": "markdown",
   "metadata": {},
   "source": [
    " "
   ]
  },
  {
   "cell_type": "markdown",
   "metadata": {},
   "source": [
    "## bilan 1.0"
   ]
  },
  {
   "cell_type": "code",
   "execution_count": 675,
   "metadata": {},
   "outputs": [
    {
     "data": {
      "text/plain": [
       "0.1537152580828134"
      ]
     },
     "execution_count": 675,
     "metadata": {},
     "output_type": "execute_result"
    }
   ],
   "source": [
    "model.score(x_train, training_scores_encoded)"
   ]
  },
  {
   "cell_type": "markdown",
   "metadata": {},
   "source": [
    " "
   ]
  },
  {
   "cell_type": "markdown",
   "metadata": {},
   "source": [
    "# 11%  with sklearn"
   ]
  },
  {
   "cell_type": "markdown",
   "metadata": {},
   "source": [
    "### but now let's just move on a neural Network from scrach, take a lil'break before it !"
   ]
  },
  {
   "cell_type": "markdown",
   "metadata": {},
   "source": [
    "#### the following program do not contains any Library 'all made program', exept numpy and pandas\n"
   ]
  },
  {
   "cell_type": "code",
   "execution_count": 681,
   "metadata": {},
   "outputs": [],
   "source": [
    "import numpy as np\n",
    "import random\n",
    "# for array and dot product\n",
    "\n",
    "\n",
    "class Neural_Network(object):\n",
    "    def __init__(self, entries, output):\n",
    "        self.entries = np.array([entries]).reshape(-1, 1) #it's 5 for deep Learning approche\n",
    "        self.output = np.array([output]).reshape(-1, 1)\n",
    "        self.weights = np.ndarray(self.entries.shape[0], 1)\n",
    "        self.bias = 0.1\n",
    "        self.activation = self.activation_function\n",
    "        self.target = [5, 5, 5, 5, 5] #to get 5/5 rate five times on one shot\n",
    "        \n",
    "    \n",
    "    def aggregation_function(self, entries, weights, bias):\n",
    "        aggregation = np.dot(self.entries, self.weights) + self.bias\n",
    "        return aggregation        \n",
    "        \n",
    "    def activation_function(self, z):\n",
    "        return 1.0/(1.0 + np.exp(-z))\n",
    "    \n",
    "    #backpropagation\n",
    "    def activation_function_prime(self, z):\n",
    "        return activation_function(z)*(1-activation_function(z))\n",
    "    \n",
    "    def feed_forward(self, a):\n",
    "        '''\n",
    "        [entries] ---> {function}([5 entries]) <----> /*\\25 weights/*\\ ---> nextlayer ... \n",
    "        \n",
    "        --> output {Cost function} ::: => backpropagation -?\n",
    "        '''\n",
    "        for b, w in zip(self.biases, self.weights):\n",
    "            a = sigmoid(np.dot(w, a)+b)\n",
    "        return a\n",
    "        \n",
    "        \n",
    "    def Stochastic_Gradient_Descent(self, training_data, epochs, mini_batch_size, eta, test_data=None):\n",
    "        if test_data: n_test = len(test_data)\n",
    "        \n",
    "        n = len(training_data)\n",
    "        for j in  xrange(epochs):\n",
    "            random.shuffle(training_data)\n",
    "            mini_batchs = [\n",
    "                training_data[k:k+mini_batch_size]\n",
    "                for k in xrange(0,n,mini_batch_size)\n",
    "            ]\n",
    "            for mini_batch in mini_batchs:\n",
    "                self.update(mini_batch, eta)\n",
    "                \n",
    "            if test_data:\n",
    "                print('epoch {0}: {1} / {2}').format(j, self.evaluate(test_data), n_test)\n",
    "            else:\n",
    "                print('epoch {0} complete').format(j)\n",
    "                \n",
    "    def update_mini_batchs(self, mini_batchs, eta):\n",
    "        nabla_b = [np.zeros(b.shape) for b in self.biases]\n",
    "        nabla_w = [np.zeros(w.shape) for w in self.weights]\n",
    "        \n",
    "        for x, y in mini_batchs:\n",
    "            delta_nabla_b, delta_nabla_w = self.backpropagation(x, y)\n",
    "            nabla_b = [nb+dnb for nb, dnb in zip(nabla_b, delta_nabla_b)]\n",
    "            nabla_w = [nw+dnw for nw, dnw in zip(nabla_w, delta_nabla_w)]\n",
    "\n",
    "        self.weights = [w - eta / len(mini_batchs) * nw for w, nw in zip(self.weights, nabla_w)]\n",
    "        self.biases = [b - eta / len(mini_batchs) * nb for b, nb in zip(self.biases, nabla_b)]\n",
    "        \n",
    "        \n",
    "\n",
    "    def backpropagation(self, x):\n",
    "        nabla_b = [np.zeros(b.shape) for b in self.biases]\n",
    "        nabla_w = [np.zeros(w.shape) for w in self.weights]\n",
    "        \n",
    "        activation = x\n",
    "        activations = [x]\n",
    "        zs = []\n",
    "        \n",
    "        for b, w in zip(self.biases, self.weights):\n",
    "            z = np.dot(w, activation) + b\n",
    "            zs.append(z)\n",
    "            activation = sigmoid(z)\n",
    "            activations.append(activation)\n",
    "    \n",
    "    "
   ]
  },
  {
   "cell_type": "code",
   "execution_count": null,
   "metadata": {},
   "outputs": [],
   "source": []
  }
 ],
 "metadata": {
  "kernelspec": {
   "display_name": "Python 3",
   "language": "python",
   "name": "python3"
  },
  "language_info": {
   "codemirror_mode": {
    "name": "ipython",
    "version": 3
   },
   "file_extension": ".py",
   "mimetype": "text/x-python",
   "name": "python",
   "nbconvert_exporter": "python",
   "pygments_lexer": "ipython3",
   "version": "3.7.4"
  }
 },
 "nbformat": 4,
 "nbformat_minor": 2
}
